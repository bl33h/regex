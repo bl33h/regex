{
 "cells": [
  {
   "cell_type": "markdown",
   "id": "28c4e900",
   "metadata": {},
   "source": [
    "# Regex NLP\n",
    "- Sara Echeverría 21371"
   ]
  }
 ],
 "metadata": {
  "language_info": {
   "name": "python"
  }
 },
 "nbformat": 4,
 "nbformat_minor": 5
}
