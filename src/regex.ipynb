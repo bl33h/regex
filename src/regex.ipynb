{
 "cells": [
  {
   "cell_type": "markdown",
   "id": "28c4e900",
   "metadata": {},
   "source": [
    "# Regex NLP\n",
    "- Sara Echeverría 21371"
   ]
  },
  {
   "cell_type": "markdown",
   "id": "f6a10005",
   "metadata": {},
   "source": [
    "### Objetivo\n",
    "Aplicar únicamente expresiones regulares con la librería re para eliminar información personal identificable de transcripciones médicas."
   ]
  },
  {
   "cell_type": "code",
   "execution_count": 6,
   "id": "209ccac6",
   "metadata": {},
   "outputs": [],
   "source": [
    "import pandas as pd\n",
    "import re"
   ]
  },
  {
   "cell_type": "code",
   "execution_count": 7,
   "id": "88849196",
   "metadata": {},
   "outputs": [],
   "source": [
    "filePath = \"data/pii_dataset.csv\"\n",
    "df = pd.read_csv(filePath)"
   ]
  },
  {
   "cell_type": "code",
   "execution_count": 8,
   "id": "947b13d0",
   "metadata": {},
   "outputs": [],
   "source": [
    "escapedNames = [re.escape(name) for name in df['Nombre'].tolist()]\n",
    "namePattern = r'\\b(?:' + '|'.join(escapedNames) + r')\\b'"
   ]
  },
  {
   "cell_type": "code",
   "execution_count": 9,
   "id": "96d73505",
   "metadata": {},
   "outputs": [],
   "source": [
    "def cleanPiiFromText(text):\n",
    "    text = re.sub(r'\\b[\\w\\.-]+@[\\w\\.-]+\\.\\w{2,4}\\b', '[REDACTED]', text)\n",
    "    text = re.sub(r'(\\+?\\d{1,3}[\\s-]?)?(\\d{9}|\\d{3}[\\s-]?\\d{3}[\\s-]?\\d{3})', '[REDACTED]', text)\n",
    "    text = re.sub(r'\\b[XYZ]?\\d{7,8}[A-Z]\\b', '[REDACTED]', text)\n",
    "    text = re.sub(r'\\bP\\d{7,8}\\b', '[REDACTED]', text)\n",
    "    text = re.sub(r'\\b(Calle|Avenida|Urbanización|Alameda|Vial|Piso)\\b[^,.]*', '[REDACTED]', text)\n",
    "    text = re.sub(namePattern, '[REDACTED]', text, flags=re.IGNORECASE)\n",
    "    return text.strip()"
   ]
  },
  {
   "cell_type": "code",
   "execution_count": 10,
   "id": "65a61877",
   "metadata": {},
   "outputs": [],
   "source": [
    "df['TextoLimpio'] = df['Texto'].apply(cleanPiiFromText)"
   ]
  },
  {
   "cell_type": "code",
   "execution_count": 11,
   "id": "21a16869",
   "metadata": {},
   "outputs": [
    {
     "data": {
      "text/html": [
       "<div>\n",
       "<style scoped>\n",
       "    .dataframe tbody tr th:only-of-type {\n",
       "        vertical-align: middle;\n",
       "    }\n",
       "\n",
       "    .dataframe tbody tr th {\n",
       "        vertical-align: top;\n",
       "    }\n",
       "\n",
       "    .dataframe thead th {\n",
       "        text-align: right;\n",
       "    }\n",
       "</style>\n",
       "<table border=\"1\" class=\"dataframe\">\n",
       "  <thead>\n",
       "    <tr style=\"text-align: right;\">\n",
       "      <th></th>\n",
       "      <th>Texto</th>\n",
       "      <th>TextoLimpio</th>\n",
       "    </tr>\n",
       "  </thead>\n",
       "  <tbody>\n",
       "    <tr>\n",
       "      <th>0</th>\n",
       "      <td>Mi nombre es Reyes Pinilla Rosado, puedes cont...</td>\n",
       "      <td>Mi nombre es [REDACTED], puedes contactarme po...</td>\n",
       "    </tr>\n",
       "    <tr>\n",
       "      <th>1</th>\n",
       "      <td>Mi nombre es Evita Solsona Escobar, puedes con...</td>\n",
       "      <td>Mi nombre es [REDACTED], puedes contactarme po...</td>\n",
       "    </tr>\n",
       "    <tr>\n",
       "      <th>2</th>\n",
       "      <td>Mi nombre es Lorenza Mate Bayón, puedes contac...</td>\n",
       "      <td>Mi nombre es [REDACTED], puedes contactarme po...</td>\n",
       "    </tr>\n",
       "    <tr>\n",
       "      <th>3</th>\n",
       "      <td>Mi nombre es Renato González-Araujo, puedes co...</td>\n",
       "      <td>Mi nombre es [REDACTED], puedes contactarme po...</td>\n",
       "    </tr>\n",
       "    <tr>\n",
       "      <th>4</th>\n",
       "      <td>Mi nombre es Chus Alejandro Duarte Mayoral, pu...</td>\n",
       "      <td>Mi nombre es [REDACTED], puedes contactarme po...</td>\n",
       "    </tr>\n",
       "  </tbody>\n",
       "</table>\n",
       "</div>"
      ],
      "text/plain": [
       "                                               Texto  \\\n",
       "0  Mi nombre es Reyes Pinilla Rosado, puedes cont...   \n",
       "1  Mi nombre es Evita Solsona Escobar, puedes con...   \n",
       "2  Mi nombre es Lorenza Mate Bayón, puedes contac...   \n",
       "3  Mi nombre es Renato González-Araujo, puedes co...   \n",
       "4  Mi nombre es Chus Alejandro Duarte Mayoral, pu...   \n",
       "\n",
       "                                         TextoLimpio  \n",
       "0  Mi nombre es [REDACTED], puedes contactarme po...  \n",
       "1  Mi nombre es [REDACTED], puedes contactarme po...  \n",
       "2  Mi nombre es [REDACTED], puedes contactarme po...  \n",
       "3  Mi nombre es [REDACTED], puedes contactarme po...  \n",
       "4  Mi nombre es [REDACTED], puedes contactarme po...  "
      ]
     },
     "execution_count": 11,
     "metadata": {},
     "output_type": "execute_result"
    }
   ],
   "source": [
    "df[['Texto', 'TextoLimpio']].head()"
   ]
  },
  {
   "cell_type": "markdown",
   "id": "a9198350",
   "metadata": {},
   "source": [
    "### Discusión\n",
    "Al utilizar únicamente expresiones regulares, se encontraron limitaciones relacionadas con la flexibilidad y exactitud en la detección de ciertos tipos de PII, especialmente nombres o direcciones con formatos variados. Esto se debe a que los patrones deben definirse de forma precisa para evitar falsos positivos o dejar información sin anonimizar, lo cual representa un reto cuando los datos no siguen una estructura uniforme.\n",
    "\n",
    "Como mejora, se recomienda complementar este proceso con técnicas de NLP o modelos de reconocimiento de entidades, que permiten identificar esta información con mayor eficacia en textos no estructurados. No resolver correctamente este problema podría comprometer la privacidad de las personas, especialmente en contextos sensibles como el de la salud, y conllevar consecuencias éticas y legales importantes."
   ]
  }
 ],
 "metadata": {
  "kernelspec": {
   "display_name": "myenv",
   "language": "python",
   "name": "myenv"
  },
  "language_info": {
   "codemirror_mode": {
    "name": "ipython",
    "version": 3
   },
   "file_extension": ".py",
   "mimetype": "text/x-python",
   "name": "python",
   "nbconvert_exporter": "python",
   "pygments_lexer": "ipython3",
   "version": "3.9.13"
  }
 },
 "nbformat": 4,
 "nbformat_minor": 5
}
